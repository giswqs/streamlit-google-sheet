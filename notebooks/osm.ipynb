{
 "cells": [
  {
   "cell_type": "code",
   "execution_count": null,
   "id": "34ffe856-f652-4241-8642-23a2e523d355",
   "metadata": {},
   "outputs": [],
   "source": [
    "import leafmap"
   ]
  },
  {
   "cell_type": "code",
   "execution_count": null,
   "id": "65261905-d355-4946-b5fb-9fb701b781d5",
   "metadata": {},
   "outputs": [],
   "source": [
    "m = leafmap.Map(center=[35.951955, -83.930826], zoom=15)\n",
    "m"
   ]
  },
  {
   "cell_type": "code",
   "execution_count": null,
   "id": "ae3554df-1b58-4b11-81f4-8128a7b94b27",
   "metadata": {},
   "outputs": [],
   "source": [
    "m.bounds"
   ]
  },
  {
   "cell_type": "code",
   "execution_count": null,
   "id": "41516131-3fa4-49a5-acf2-4d1bbe7e917d",
   "metadata": {},
   "outputs": [],
   "source": [
    "m.add_osm_from_view(tags={\"amenity\": \"parking\", \"building\": True}, layer_name=\"UT Parking\")"
   ]
  },
  {
   "cell_type": "code",
   "execution_count": null,
   "id": "d5d638e6-cd22-4137-a241-d58843ddc4ae",
   "metadata": {},
   "outputs": [],
   "source": [
    "gdf = leafmap.osm_gdf_from_bbox(35.9623, 35.9415, -83.8993, -83.9622, tags={\"building\": True})"
   ]
  },
  {
   "cell_type": "code",
   "execution_count": null,
   "id": "972b63d9-2b73-49fe-8d4c-bbd66317022b",
   "metadata": {},
   "outputs": [],
   "source": [
    "gdf"
   ]
  },
  {
   "cell_type": "code",
   "execution_count": null,
   "id": "d826f96b-70af-440a-bec2-2c7a3bf72084",
   "metadata": {},
   "outputs": [],
   "source": [
    "buildings = gdf[gdf.geom_type=='Polygon'][['building', 'name', 'amenity', 'geometry']]"
   ]
  },
  {
   "cell_type": "code",
   "execution_count": null,
   "id": "8d62eb5b-80d0-4c8f-be3a-15cde6f0464c",
   "metadata": {},
   "outputs": [],
   "source": [
    "buildings.to_file('buildings.geojson')"
   ]
  },
  {
   "cell_type": "code",
   "execution_count": null,
   "id": "c64646fa-bc67-4cf8-bdfb-a246030f1cad",
   "metadata": {},
   "outputs": [],
   "source": [
    "buildings.to_file('buildings.shp')"
   ]
  },
  {
   "cell_type": "code",
   "execution_count": null,
   "id": "eb6553fa-0eea-45cd-a54a-f3bf2d555385",
   "metadata": {},
   "outputs": [],
   "source": [
    "m.add_gdf(gdf, layer_name='Building')"
   ]
  },
  {
   "cell_type": "code",
   "execution_count": null,
   "id": "2365f016-97f3-4e43-b505-341d0031e340",
   "metadata": {},
   "outputs": [],
   "source": []
  }
 ],
 "metadata": {
  "kernelspec": {
   "display_name": "Python 3",
   "language": "python",
   "name": "python3"
  },
  "language_info": {
   "codemirror_mode": {
    "name": "ipython",
    "version": 3
   },
   "file_extension": ".py",
   "mimetype": "text/x-python",
   "name": "python",
   "nbconvert_exporter": "python",
   "pygments_lexer": "ipython3",
   "version": "3.9.10"
  }
 },
 "nbformat": 4,
 "nbformat_minor": 5
}
